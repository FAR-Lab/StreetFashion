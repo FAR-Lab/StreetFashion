{
 "cells": [
  {
   "cell_type": "markdown",
   "id": "fdf90075",
   "metadata": {
    "id": "fdf90075"
   },
   "source": [
    "# Street Fashion Colors\n",
    "\n"
   ]
  },
  {
   "cell_type": "markdown",
   "id": "1fbb311c",
   "metadata": {
    "id": "1fbb311c"
   },
   "source": [
    "### Importing libraries and defining functions\n"
   ]
  },
  {
   "cell_type": "code",
   "execution_count": null,
   "id": "WLYT6m-NrNP_",
   "metadata": {
    "colab": {
     "base_uri": "https://localhost:8080/"
    },
    "id": "WLYT6m-NrNP_",
    "outputId": "8d5f2c7f-67e6-45c3-c821-4aebc450dda8"
   },
   "outputs": [],
   "source": [
    "#############################################################################################################\n",
    "##### 1. Import all necessary libraries.                                                                #####\n",
    "#############################################################################################################\n",
    "## If an error is given about cv2, install opencv-python by uncommenting that line.\n",
    "#!conda install -c conda-forge opencv\n",
    "#!echo -e \"y\\n\" | conda install -c anaconda scikit-learn\n",
    "#!echo -e \"y\\n\" | conda install -c anaconda scipy\n",
    "#!echo -e \"y\\n\" | conda install -c conda-forge scikit-image\n",
    "#!echo -e \"y\\n\" | conda install matplotlib\n",
    "#!echo -e \"y\\n\" | conda install pandas\n",
    "!echo -e \"y\\n\" | conda install -c conda-forge opencv\n",
    "\n",
    "\n",
    "import json, matplotlib, os, colorsys, scipy, scipy.spatial.distance, numpy as np, pandas as pd, \\\n",
    "    matplotlib.pyplot as plt, skimage, sklearn, re, cv2\n",
    "from ast import literal_eval ## converting string renditions of arrays back to lists\n",
    "from math import sqrt\n",
    "from PIL import Image\n",
    "from collections import Counter\n",
    "from skimage import color\n",
    "from skimage import data\n",
    "from sklearn.cluster import KMeans\n",
    "\n",
    "\n",
    "#############################################################################################################\n",
    "#####    Definition of a function that returns the last digits of an int                               ######\n",
    "#############################################################################################################\n",
    "def get_last_digits(num, digits=2):\n",
    "    return num % 10**digits\n",
    "\n",
    "#############################################################################################################\n",
    "#####   Definition of a function that maps labels to colors specified in config                        ######\n",
    "#############################################################################################################\n",
    "def apply_color_map(image_array, labels):\n",
    "    color_array = np.zeros((image_array.shape[0], image_array.shape[1], 3), dtype=np.uint8)\n",
    "\n",
    "    for label_id, label in enumerate(labels):\n",
    "        ## set all pixels with the current label to the color of the current label\n",
    "        color_array[image_array == label_id] = label[\"color\"]\n",
    "\n",
    "    return color_array\n"
   ]
  },
  {
   "cell_type": "code",
   "execution_count": null,
   "id": "akgbFv9AyLCc",
   "metadata": {
    "id": "akgbFv9AyLCc"
   },
   "outputs": [],
   "source": [
    "### import image and convert to pixels array\n",
    "\n",
    "def loadimage(imagepath):\n",
    "  #global imagepath\n",
    "  imagepath=str(imagepath)\n",
    "  img=cv2.imread(imagepath)\n",
    "  img = np.array(img)\n",
    "  img = cv2.cvtColor(img, cv2.COLOR_BGR2RGB) # making sure the colors show up correctly when we plot it\n",
    "  # Plot the image, for debugging\n",
    "  # plt.imshow(img)\n",
    "  # plt.axis('off')  # Turn off the axis labels and ticks (optional)\n",
    "  # plt.show()\n",
    "  global pixels\n",
    "  pixels = np.float32(img).reshape(-1, 3)\n",
    "\n",
    "## logic to remove black pixels from the pixels array\n",
    "  #o=pixels\n",
    "  #N=0\n",
    "  #for i in range(o.shape[0]):\n",
    "  #  if (o[i,0] == 0) and (o[i,1]==0) and (o[i,2]==0): ## the pixel is black\n",
    "  #    N+=0\n",
    "  #  else:\n",
    "  #    N+=1 ## the pixel is not black\n",
    "  #result=np.zeros(shape=(N,3))\n",
    "  #c=0\n",
    "  #for i in range(o.shape[0]):\n",
    "  #    if (o[i,0]==0) and (o[i,1]==0) and (o[i,2]==0):\n",
    "  #        continue\n",
    "  #result[c,:]=o[i,:]\n",
    "  #c+=1\n",
    "  #pixels = np.float32(result)\n",
    "\n",
    "#loadimage('6kpeds/0abebbdfdc8148b3af66faf5455dcdf9_11.png')\n",
    "#print(pixels) # for debugging\n"
   ]
  },
  {
   "cell_type": "markdown",
   "id": "mjWyYHxLFa5j",
   "metadata": {
    "id": "mjWyYHxLFa5j"
   },
   "source": [
    "#### Run k-means to identify largest color clusters"
   ]
  },
  {
   "cell_type": "code",
   "execution_count": null,
   "id": "E_JiVBjlFt25",
   "metadata": {
    "id": "E_JiVBjlFt25"
   },
   "outputs": [],
   "source": [
    "#############################################################################################################\n",
    "#####  APPLYING K-MEANS                                                                                ######\n",
    "#############################################################################################################\n",
    "def apply_kmeans(pixels):\n",
    "    global labarr_r\n",
    "    global kmlabels_\n",
    "    global rgbarr_r\n",
    "    global countsarr\n",
    "    global kmcluster_centers_\n",
    "    global palettecounts\n",
    "\n",
    "    ## step 1: assign the values of pixels to bins of 1-16 for R,G,B and create histogram\n",
    "    ## maxbins=[15,31,47,63,79,95,111,127,143,159,175,191,207,223,239,255] #maximum value of each bin\n",
    "    pixelbins=(np.float32(pixels)//16) # calculates bins from 0-255 to 0-15 (16 values)\n",
    "    binarr=[]\n",
    "    for row in range(len(pixelbins)-1): # combine the pixel bins into one value per row, preceded by \"1\"\n",
    "        binstr=\"1{:02d}{:02d}{:02d}\".format(int(pixelbins[row,0]),int(pixelbins[row,1]),int(pixelbins[row,2]))\n",
    "        binarr.append(int(binstr))\n",
    "    counts = dict(Counter(binarr)) #histogram (counts per item) is stored as dictionary\n",
    "\n",
    "    ## step 2: for each bin, compute mean color in LAB space\n",
    "    ## right now, taking bin edge color and not average color per bin\n",
    "    ## convert back from combined int to RGB tuple\n",
    "    labarr=[]\n",
    "    countsarr=[]\n",
    "    rgbarr=[]\n",
    "    for item in counts:\n",
    "        b = (get_last_digits(item,2)+1)/16 #converting from valu 0-15 into value 0-1\n",
    "        g = (((get_last_digits(item,4)-b)//100)+1)/16\n",
    "        r = (((get_last_digits(item,6)-g-b)//10000)+1)/16\n",
    "        rgbitem=[r,g,b]\n",
    "        rgbarr.append(rgbitem)\n",
    "    ## convert from RGB to LAB\n",
    "        labitem=(skimage.color.rgb2lab([r,g,b]))\n",
    "        labarr.append(labitem)\n",
    "        countsarr.append(counts.get(item))\n",
    "    labarr_r=np.float32(labarr).reshape(-1, 3)\n",
    "    rgbarr_r=np.float32(rgbarr).reshape(-1, 3)\n",
    "    countsarr=np.float32(countsarr)\n",
    "\n",
    "\n",
    "    ## step 3: we now have an array with counts for each color, and an array with the corresponding LAB colors\n",
    "    ## (based on the bin edge). these are countsarr and labarr\n",
    "    ## we use weighted k-means instead of k-means, as we are looking at counts of points and not just points\n",
    "    X=labarr_r\n",
    "    sample_weight=countsarr\n",
    "    clustercount=5\n",
    "    if len(countsarr)<5:\n",
    "        print(\"Skipping segment because the number of colors < k\")\n",
    "        skipseg='true'\n",
    "        return None, None\n",
    "    km = KMeans(\n",
    "        n_clusters=clustercount, init='k-means++', n_init=10, max_iter=300, tol=1e-04, random_state=0\n",
    "    )\n",
    "    y_km = km.fit_predict(X, sample_weight=countsarr)\n",
    "\n",
    "    kmlabels_=km.labels_\n",
    "    kmcluster_centers_=km.cluster_centers_\n",
    "    palettecounts=[np.sum(kmlabels_ == 0),np.sum(kmlabels_ == 1),np.sum(kmlabels_ == 2),np.sum(kmlabels_ == 3),np.sum(kmlabels_ == 4)]\n",
    "    print(\"Palette counts:\",palettecounts)\n",
    "    print(kmcluster_centers_,pixels,palettecounts)\n",
    "    #palette=np.uint8([rgb_cluster_centers])\n",
    "    palette_arr.append(np.uint8(kmcluster_centers_))\n",
    "    palettecounts_arr.append(np.uint8(palettecounts))\n",
    "    return(kmcluster_centers_,palettecounts)\n",
    "    \n"
   ]
  },
  {
   "cell_type": "markdown",
   "id": "QebQsImia5SY",
   "metadata": {
    "id": "QebQsImia5SY"
   },
   "source": [
    "### Make a 3D plot"
   ]
  },
  {
   "cell_type": "code",
   "execution_count": null,
   "id": "GU9shJDCFlJP",
   "metadata": {
    "id": "GU9shJDCFlJP"
   },
   "outputs": [],
   "source": [
    "def make_3d_plot(labarr_r,kmlabels_,rgbarr_r, countsarr, kmcluster_centers_):\n",
    "    #if vis_3dplot=='false': #skip this function if the user specified not to visualize 3d plot\n",
    "    #    return\n",
    "\n",
    "    ## step 4: make a scatterplot showing the bins and bin sizes in LAB along with clusters from k-means\n",
    "    plt.rcParams[\"figure.figsize\"] = [21.00, 10.50]\n",
    "    plt.rcParams[\"figure.autolayout\"] = True\n",
    "    fig = plt.figure()\n",
    "    ax = fig.add_subplot(111, projection='3d')\n",
    "    data = labarr_r\n",
    "    #plotting each color that appears in the image as a point\n",
    "    L,a,b = labarr_r[:,0],labarr_r[:,1],labarr_r[:,2]\n",
    "    label = kmlabels_\n",
    "    ax.scatter(L, a, b, c=rgbarr_r, s=countsarr*6,alpha=0.5) #use c=label for cluster colors\n",
    "    #plotting the centers too\n",
    "    Lc,ac,bc = kmcluster_centers_[:,0],kmcluster_centers_[:,1],kmcluster_centers_[:,2]\n",
    "    ax.scatter(Lc, ac, bc, marker='*', c='red',s=100, alpha=1)\n",
    "    ax.set_xlabel('L')\n",
    "    ax.set_ylabel('a')\n",
    "    ax.set_zlabel('b')\n",
    "    plt.grid()\n",
    "    plt.show()"
   ]
  },
  {
   "cell_type": "code",
   "execution_count": null,
   "id": "14a6bbcc",
   "metadata": {
    "id": "14a6bbcc",
    "scrolled": true
   },
   "outputs": [],
   "source": [
    "\n",
    "#############################################################################################################\n",
    "#####       Building our segment and palette plots                                                     ######\n",
    "#############################################################################################################\n",
    "def plot_seg_palette(kmcluster_centers_,img,palettecounts):\n",
    "    rows=kmcluster_centers_.shape[0]\n",
    "    rgb_cluster_centers=[]\n",
    "    for row in range(rows):\n",
    "        lab=kmcluster_centers_[row,:]\n",
    "        rgb=skimage.color.lab2rgb(lab)*255\n",
    "        rgb=rgb.reshape(1,3)\n",
    "        rgb_cluster_centers.append([rgb[0,0],rgb[0,1],rgb[0,2]])\n",
    "\n",
    "    palette=np.uint8([rgb_cluster_centers])\n",
    "    palette_arr.append(np.uint8(rgb_cluster_centers))\n",
    "    palettecounts_arr.append(np.uint8(palettecounts))\n",
    "    ### plotting original filtered segment and dominant colors\n",
    "\n",
    "    #if vis_seg_palette=='false': #skip this function if the user specified not to visualize seg + pal\n",
    "    #    return\n",
    "    fig, (ax0,ax1) = plt.subplots(1, 2, figsize=(3,3))\n",
    "    ax0.imshow(img)\n",
    "    ax0.set_title('Human')\n",
    "    ax0.axis('off')\n",
    "    ax1.imshow(palette)\n",
    "    ax1.set_title('Palette')\n",
    "    ax1.axis('off')\n",
    "    plt.show(fig)\n",
    "\n"
   ]
  },
  {
   "cell_type": "code",
   "execution_count": null,
   "id": "qlvkndTcGQrC",
   "metadata": {
    "id": "qlvkndTcGQrC"
   },
   "outputs": [],
   "source": [
    "def plot_img_palette(palette_arr):\n",
    "    fig, (ax0) = plt.subplots(1, 1)\n",
    "    ax0.imshow(palette_arr)\n",
    "    ax0.set_title('Image h-palette')\n",
    "    ax0.axis('off')\n",
    "    fig.set_figwidth(1)\n",
    "    fig.set_figheight(len(palette_arr))\n",
    "    plt.show(fig)\n",
    "\n"
   ]
  },
  {
   "cell_type": "code",
   "execution_count": null,
   "id": "296GDXdDDbSt",
   "metadata": {
    "id": "296GDXdDDbSt"
   },
   "outputs": [],
   "source": [
    "global palette_arr ## array for storing all the palettes of every h-segment in the image\n",
    "palette_arr=[]\n",
    "\n",
    "global palettecounts_arr ## array for storing the count of each palette color\n",
    "palettecounts_arr=[]\n",
    "\n",
    "global mega_palette_arr\n",
    "mega_palette_arr=[]"
   ]
  },
  {
   "cell_type": "code",
   "execution_count": null,
   "id": "tBq8vL0iGTMu",
   "metadata": {
    "colab": {
     "base_uri": "https://localhost:8080/",
     "height": 378
    },
    "id": "tBq8vL0iGTMu",
    "outputId": "bda775b1-7515-47d1-eb95-0fdbcf1959ca"
   },
   "outputs": [],
   "source": [
    "import os\n",
    "import pandas as pd\n",
    "\n",
    "# Initialize humandf as an empty DataFrame\n",
    "humandf = pd.DataFrame(columns=['File Path'])\n",
    "\n",
    "def listdata(folder_path):\n",
    "    \"\"\"\n",
    "    Create a DataFrame with file paths of all PNG files in the specified folder.\n",
    "\n",
    "    Args:\n",
    "    folder_path (str): Path to the folder containing PNG files.\n",
    "\n",
    "    Returns:\n",
    "    pandas.DataFrame: DataFrame with 'File Path' column containing PNG file paths.\n",
    "    \"\"\"\n",
    "    # Get a list of all PNG files in the folder\n",
    "    png_files = [os.path.join(folder_path, file) for file in os.listdir(folder_path) if file.lower().endswith('.png')]\n",
    "\n",
    "    # Create a DataFrame with 'File Path' column containing PNG file paths\n",
    "    temp_df = pd.DataFrame({'File Path': png_files})\n",
    "\n",
    "    return temp_df\n",
    "\n",
    "# Specify the folder path containing PNG files\n",
    "folder_path = '6k_peds'\n",
    "\n",
    "# Call the listdata function to get the DataFrame\n",
    "humandf = listdata(folder_path)\n",
    "\n",
    "# Save the DataFrame as a CSV file\n",
    "humandf.to_csv('output.csv', index=False)\n",
    "\n",
    "# Print a message indicating the CSV file has been created\n",
    "print('CSV file created successfully.')\n"
   ]
  },
  {
   "cell_type": "code",
   "execution_count": null,
   "id": "81fd2a34",
   "metadata": {},
   "outputs": [],
   "source": [
    "# Example usage:\n",
    "# Specify the folder path\n",
    "folder_path = \"6k_peds\"\n",
    "\n",
    "# Call the function to get the DataFrame\n",
    "humandf = listdata(folder_path)\n",
    "\n",
    "# Check if humandf is None or empty\n",
    "if humandf is not None and not humandf.empty:\n",
    "    # Access the third row of the DataFrame\n",
    "    if len(humandf) >= 3:\n",
    "        row_3 = humandf.iloc[2]  # Note that Python uses 0-based indexing, so row 3 is index 2\n",
    "        print(row_3)\n",
    "    else:\n",
    "        print(\"DataFrame does not have at least 3 rows.\")\n",
    "else:\n",
    "    print(\"DataFrame is None or empty.\")"
   ]
  },
  {
   "cell_type": "code",
   "execution_count": null,
   "id": "6GG1YONIFkbV",
   "metadata": {
    "colab": {
     "base_uri": "https://localhost:8080/",
     "height": 844
    },
    "id": "6GG1YONIFkbV",
    "outputId": "50afd932-c383-4d61-92be-de9cac0af55b"
   },
   "outputs": [],
   "source": [
    "def process_segments():\n",
    "    global mega_palette_arr\n",
    "    global palette_arr\n",
    "    global pallettecounts_arr\n",
    "    mega_palette_arr=[]\n",
    "    palette_arrr=[]\n",
    "    palettecounts_arr=[]\n",
    "    listdata(folder_path)\n",
    "    nsegments = len(humandf)\n",
    "    ns = 0\n",
    "    mega_palette_arr = []\n",
    "\n",
    "    #for segmentindex in range(nsegments): ###Running this will cause the notebook to get stuck\n",
    "    for segmentindex in range(40): #for debugging\n",
    "        imagepath = humandf.iloc[segmentindex]['File Path']\n",
    "        print(\"Image Path:\", imagepath)  # Print the image path for debugging\n",
    "\n",
    "        loadimage(imagepath)\n",
    "        ns += 1  # adding to the number of segments\n",
    "       # Get palette_arr and palettecounts_arr from apply_kmeans function\n",
    "        labarr_r, palettecounts = apply_kmeans(pixels)\n",
    "\n",
    "        # Construct paletteinfo with updated palette_arr and palettecounts_arr\n",
    "        paletteinfo = [imagepath, kmcluster_centers_, palettecounts]\n",
    "        print(\"Palette Arr:\", palette_arr)\n",
    "        mega_palette_arr.append(paletteinfo)\n",
    "\n",
    "    return mega_palette_arr\n",
    "# Call the function\n",
    "result = process_segments()\n",
    "\n",
    "# Now, 'result' contains the value returned by the function process_segments()\n"
   ]
  },
  {
   "cell_type": "markdown",
   "id": "a24a52bd",
   "metadata": {},
   "source": [
    "print(mega_palette_arr)"
   ]
  },
  {
   "cell_type": "code",
   "execution_count": null,
   "id": "6mF117OoTq3h",
   "metadata": {
    "colab": {
     "base_uri": "https://localhost:8080/"
    },
    "id": "6mF117OoTq3h",
    "outputId": "a4720e13-93c3-411a-e183-9b1e622ab2ec"
   },
   "outputs": [],
   "source": [
    "mega_palette_df = pd.DataFrame(mega_palette_arr)\n",
    "mega_palette_df.to_csv ('testresults.csv', index = False, header=True)\n"
   ]
  },
  {
   "cell_type": "code",
   "execution_count": null,
   "id": "1f88040b",
   "metadata": {},
   "outputs": [],
   "source": []
  }
 ],
 "metadata": {
  "colab": {
   "provenance": []
  },
  "kernelspec": {
   "display_name": "Python 3 (ipykernel)",
   "language": "python",
   "name": "python3"
  },
  "language_info": {
   "codemirror_mode": {
    "name": "ipython",
    "version": 3
   },
   "file_extension": ".py",
   "mimetype": "text/x-python",
   "name": "python",
   "nbconvert_exporter": "python",
   "pygments_lexer": "ipython3",
   "version": "3.10.13"
  }
 },
 "nbformat": 4,
 "nbformat_minor": 5
}
